{
  "cells": [
    {
      "cell_type": "markdown",
      "metadata": {
        "id": "k16Fw2T6I7g2"
      },
      "source": [
        "# Quiz-System\n"
      ]
    },
    {
      "cell_type": "code",
      "execution_count": null,
      "metadata": {
        "id": "pi7dKFjbI7g9"
      },
      "outputs": [],
      "source": [
        "import random"
      ]
    },
    {
      "cell_type": "markdown",
      "metadata": {
        "id": "rAeFo3nNI7g_"
      },
      "source": [
        "# Step 1: Define the Question_data Class\n",
        "We'll start by creating a Question class that represents a single question. Each question will have a question text, options (for multiple choice questions), and the correct answer."
      ]
    },
    {
      "cell_type": "code",
      "execution_count": null,
      "metadata": {
        "id": "Fpu_ledVI7hA"
      },
      "outputs": [],
      "source": [
        "class Question_data:\n",
        "    def __init__(self,sentence,options,answer):\n",
        "        self.sentence = sentence\n",
        "        self.options = options\n",
        "        self.answer = answer"
      ]
    },
    {
      "cell_type": "markdown",
      "metadata": {
        "id": "ROTmT5U5I7hB"
      },
      "source": [
        "# Step 2: Create the Quiz Class\n",
        "Next, we'll create a Quiz class that represents the entire quiz. This class will contain a list of Question objects and methods to add questions, generate a quiz, and evaluate the answers."
      ]
    },
    {
      "cell_type": "code",
      "execution_count": null,
      "metadata": {
        "id": "5ctFCPYOI7hB"
      },
      "outputs": [],
      "source": [
        "# create quiz calss\n",
        "class Quiz:\n",
        "    def __init__(self,questions):\n",
        "        self.questions = questions\n",
        "        self.score = 0\n",
        "\n",
        "\n",
        "    def run_quiz(self):\n",
        "        random.shuffle(self.questions)\n",
        "        for i,question in enumerate(self.questions,1):\n",
        "            print(f\"Question {i}: {question.sentence}\")\n",
        "            random.shuffle(question.options)\n",
        "            for j,option in enumerate(question.options,1):\n",
        "                print(f\"{j}. {option}\")\n",
        "\n",
        "            user_answer = input(\"Your answer (enter the number):\\n \")\n",
        "            #for multiple choice and true false questions\n",
        "            if user_answer.isdigit() and 1 <= int(user_answer) <= len(question.options):\n",
        "                user_answer = int(user_answer)\n",
        "                if question.options[user_answer - 1] == question.answer:\n",
        "                    print(\"Correct!\\n\")\n",
        "                    self.score += 1\n",
        "                else:\n",
        "                    print(f\"your answer is wrong correct answer is: {question.answer}\\n\")\n",
        "            # for fill iin the blank questions\n",
        "            elif user_answer.isdigit():\n",
        "                if user_answer == question.answer:\n",
        "                    print(\"Correct!\\n\")\n",
        "                    self.score += 1\n",
        "                else:\n",
        "                    print(f\"your answer is wrong correct answer is: {question.answer}\\n\")\n",
        "            #for short answer type question\n",
        "            elif type(user_answer) ==str:\n",
        "                if str(user_answer).title() == question.answer:\n",
        "                    print(\"Correct!\\n\")\n",
        "                    self.score += 1\n",
        "                else:\n",
        "                    print(f\"your answer is wrong correct answer is: {question.answer}\\n\")\n",
        "\n",
        "            else:\n",
        "                print(\"Invalid input. Please enter a valid option number.\\n\")\n",
        "\n",
        "        print(\"Quiz over\")\n",
        "    def score_card(self):\n",
        "        print(f\"Your score is {self.score}/{len(self.questions)}\")\n",
        "\n",
        ""
      ]
    },
    {
      "cell_type": "markdown",
      "metadata": {
        "id": "fTx71p7VI7hC"
      },
      "source": [
        "# Adding some sample questions"
      ]
    },
    {
      "cell_type": "code",
      "execution_count": null,
      "metadata": {
        "id": "XjwkyalgI7hD"
      },
      "outputs": [],
      "source": [
        "#Multiple Choice Questions\n",
        "question1 = Question_data(\"What is the capital of India\",['Delhi','Lucknow','Agra','Mumbai'],\"Delhi\")\n",
        "question2 =  Question_data(\"Which of the following is a non metal that remains liquid at room temperature?\",['Phosphorous','Bromine','Chlorine','Helium'],\"Bromine\")\n",
        "question3 =  Question_data(\"Chlorophyll is a naturally occurring chelate compound in which central metal is\",['copper','magnesium','iron','calcium'],\"magnesium\")\n",
        "question4 =  Question_data(\"Which of the following is used in pencils?\",['Graphite','Silicon','Charcoal','Phosphorous'],\"Graphit\")\n",
        "question5 =  Question_data(\"Which of the following metals forms an amalgam with other metals?\",['Tin','Mercury','Lead','Zinc'],\"Mercury\")\n",
        "\n",
        "# Fill in the Blanks\n",
        "question6 =  Question_data(\"What is 10 x 34? = \", [], \"340\")\n",
        "question7 =  Question_data(\"What is 10 /4? = \", [], \"2.5\")\n",
        "question8 =  Question_data(\"Write one thousand five hundred three in number\",[],\"1503\")\n",
        "question9 =  Question_data(\"How many days in a weak\",[],\"7\")\n",
        "question10 =  Question_data(\"How many minutes in a hour\",[],\"60\")\n",
        "\n",
        "#True or False Type question\n",
        "question11 =  Question_data(\"Sharks are mammals\",[True,False],False)\n",
        "question12 =  Question_data(\"Water is liquid \",[True,False],True)\n",
        "\n",
        "#short answer type question\n",
        "question13 =  Question_data(\"Who is the present 15 president of India?\",[],\"Droupadi Murmu\")\n",
        "question14 =  Question_data(\"What is the Capital of Utter Predesh\",[],\"Lucknow\")"
      ]
    },
    {
      "cell_type": "code",
      "execution_count": null,
      "metadata": {
        "id": "v6m6WGVQI7hE"
      },
      "outputs": [],
      "source": [
        "# define object of Quiz class\n",
        "quiz= Quiz([question1,question2,question3,question4,question5,question6,question7,question8,question9,question10,question11,question12,question13,question14])"
      ]
    },
    {
      "cell_type": "code",
      "execution_count": null,
      "metadata": {
        "id": "OLrCvjAeI7hE",
        "outputId": "02316b82-51b2-48ea-efa5-0551fbdd78ab"
      },
      "outputs": [
        {
          "name": "stdout",
          "output_type": "stream",
          "text": [
            "Question 1: How many minutes in a hour\n",
            "Your answer (enter the number): 60\n",
            "Correct!\n",
            "\n",
            "Question 2: Write one thousand five hundred three in number\n",
            "Your answer (enter the number): 1546\n",
            "your answer is wrong correct answer is: 1503\n",
            "\n",
            "Question 3: Which of the following metals forms an amalgam with other metals?\n",
            "1. Mercury\n",
            "2. Lead\n",
            "3. Zinc\n",
            "4. Tin\n",
            "Your answer (enter the number): 2\n",
            "your answer is wrong correct answer is: Mercury\n",
            "\n",
            "Question 4: Which of the following is used in pencils?\n",
            "1. Graphite\n",
            "2. Phosphorous\n",
            "3. Charcoal\n",
            "4. Silicon\n",
            "Your answer (enter the number): 3\n",
            "your answer is wrong correct answer is: Graphit\n",
            "\n",
            "Question 5: What is 10 /4? = \n",
            "Your answer (enter the number): 2.4\n",
            "your answer is wrong correct answer is: 2.5\n",
            "\n",
            "Question 6: Which of the following is a non metal that remains liquid at room temperature?\n",
            "1. Helium\n",
            "2. Phosphorous\n",
            "3. Bromine\n",
            "4. Chlorine\n",
            "Your answer (enter the number): 3\n",
            "Correct!\n",
            "\n",
            "Question 7: How many days in a weak\n",
            "Your answer (enter the number): 1\n",
            "your answer is wrong correct answer is: 7\n",
            "\n",
            "Question 8: Water is liquid \n",
            "1. True\n",
            "2. False\n",
            "Your answer (enter the number): 1\n",
            "Correct!\n",
            "\n",
            "Question 9: Who is the present 15 president of India?\n",
            "Your answer (enter the number): droupadi murmu\n",
            "Correct!\n",
            "\n",
            "Question 10: Chlorophyll is a naturally occurring chelate compound in which central metal is\n",
            "1. calcium\n",
            "2. copper\n",
            "3. iron\n",
            "4. magnesium\n",
            "Your answer (enter the number): 2\n",
            "your answer is wrong correct answer is: magnesium\n",
            "\n",
            "Question 11: What is the capital of India\n",
            "1. Agra\n",
            "2. Delhi\n",
            "3. Lucknow\n",
            "4. Mumbai\n",
            "Your answer (enter the number): 2\n",
            "Correct!\n",
            "\n",
            "Question 12: What is 10 x 34? = \n",
            "Your answer (enter the number): 340\n",
            "Correct!\n",
            "\n",
            "Question 13: What is the Capital of Utter Predesh\n",
            "Your answer (enter the number): lucknow\n",
            "Correct!\n",
            "\n",
            "Question 14: Sharks are mammals\n",
            "1. True\n",
            "2. False\n",
            "Your answer (enter the number): 1\n",
            "your answer is wrong correct answer is: False\n",
            "\n",
            "Quiz over\n",
            "Your score is 7/14\n"
          ]
        }
      ],
      "source": [
        "quiz.run_quiz()\n",
        "quiz.score_card()"
      ]
    },
    {
      "cell_type": "code",
      "execution_count": null,
      "metadata": {
        "id": "eOWPjP63I7hG"
      },
      "outputs": [],
      "source": []
    }
  ],
  "metadata": {
    "kernelspec": {
      "display_name": "Python 3 (ipykernel)",
      "language": "python",
      "name": "python3"
    },
    "language_info": {
      "codemirror_mode": {
        "name": "ipython",
        "version": 3
      },
      "file_extension": ".py",
      "mimetype": "text/x-python",
      "name": "python",
      "nbconvert_exporter": "python",
      "pygments_lexer": "ipython3",
      "version": "3.9.7"
    },
    "colab": {
      "provenance": []
    }
  },
  "nbformat": 4,
  "nbformat_minor": 0
}